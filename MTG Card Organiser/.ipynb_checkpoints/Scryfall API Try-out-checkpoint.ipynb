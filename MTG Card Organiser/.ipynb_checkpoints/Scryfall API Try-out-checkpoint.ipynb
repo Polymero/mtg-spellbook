{
 "cells": [
  {
   "cell_type": "code",
   "execution_count": 17,
   "metadata": {},
   "outputs": [],
   "source": [
    "import requests, json, io\n",
    "from PIL import Image"
   ]
  },
  {
   "cell_type": "code",
   "execution_count": 27,
   "metadata": {},
   "outputs": [],
   "source": [
    "wop = json.load(open(r'C:\\Users\\Nika\\Downloads\\default-cards-20240715090650.json', 'rb'))"
   ]
  },
  {
   "cell_type": "code",
   "execution_count": 28,
   "metadata": {},
   "outputs": [
    {
     "ename": "KeyError",
     "evalue": "'oracle_id'",
     "output_type": "error",
     "traceback": [
      "\u001b[0;31m---------------------------------------------------------------------------\u001b[0m",
      "\u001b[0;31mKeyError\u001b[0m                                  Traceback (most recent call last)",
      "\u001b[0;32m<ipython-input-28-b41c8b4b3724>\u001b[0m in \u001b[0;36m<module>\u001b[0;34m\u001b[0m\n\u001b[0;32m----> 1\u001b[0;31m \u001b[0;34m[\u001b[0m\u001b[0mi\u001b[0m \u001b[0;32mfor\u001b[0m \u001b[0mi\u001b[0m \u001b[0;32min\u001b[0m \u001b[0mwop\u001b[0m \u001b[0;32mif\u001b[0m \u001b[0mi\u001b[0m\u001b[0;34m[\u001b[0m\u001b[0;34m'oracle_id'\u001b[0m\u001b[0;34m]\u001b[0m \u001b[0;34m==\u001b[0m \u001b[0;34m'b34bb2dc-c1af-4d77-b0b3-a0fb342a5fc6'\u001b[0m\u001b[0;34m]\u001b[0m\u001b[0;34m\u001b[0m\u001b[0;34m\u001b[0m\u001b[0m\n\u001b[0m",
      "\u001b[0;32m<ipython-input-28-b41c8b4b3724>\u001b[0m in \u001b[0;36m<listcomp>\u001b[0;34m(.0)\u001b[0m\n\u001b[0;32m----> 1\u001b[0;31m \u001b[0;34m[\u001b[0m\u001b[0mi\u001b[0m \u001b[0;32mfor\u001b[0m \u001b[0mi\u001b[0m \u001b[0;32min\u001b[0m \u001b[0mwop\u001b[0m \u001b[0;32mif\u001b[0m \u001b[0mi\u001b[0m\u001b[0;34m[\u001b[0m\u001b[0;34m'oracle_id'\u001b[0m\u001b[0;34m]\u001b[0m \u001b[0;34m==\u001b[0m \u001b[0;34m'b34bb2dc-c1af-4d77-b0b3-a0fb342a5fc6'\u001b[0m\u001b[0;34m]\u001b[0m\u001b[0;34m\u001b[0m\u001b[0;34m\u001b[0m\u001b[0m\n\u001b[0m",
      "\u001b[0;31mKeyError\u001b[0m: 'oracle_id'"
     ]
    }
   ],
   "source": [
    "[i for i in wop if i['oracle_id'] == 'b34bb2dc-c1af-4d77-b0b3-a0fb342a5fc6']"
   ]
  },
  {
   "cell_type": "code",
   "execution_count": 42,
   "metadata": {},
   "outputs": [],
   "source": [
    "def add(item, database):\n",
    "    if item['oracle_id'] not in database:\n",
    "        database[item['oracle_id']] = item['name']\n",
    "    else:\n",
    "        assert item['name'] == database[item['oracle_id']]\n",
    "\n",
    "oracleDatabase = {}\n",
    "for i in wop:\n",
    "    if 'oracle_id' in i:\n",
    "        add(i, oracleDatabase)\n",
    "    else:\n",
    "        for j in i['card_faces']:\n",
    "            add(j, oracleDatabase)\n",
    "        "
   ]
  },
  {
   "cell_type": "code",
   "execution_count": 43,
   "metadata": {},
   "outputs": [
    {
     "data": {
      "text/plain": [
       "32183"
      ]
     },
     "execution_count": 43,
     "metadata": {},
     "output_type": "execute_result"
    }
   ],
   "source": [
    "len(oracleDatabase)"
   ]
  },
  {
   "cell_type": "code",
   "execution_count": null,
   "metadata": {},
   "outputs": [],
   "source": []
  },
  {
   "cell_type": "code",
   "execution_count": null,
   "metadata": {},
   "outputs": [],
   "source": []
  },
  {
   "cell_type": "code",
   "execution_count": null,
   "metadata": {},
   "outputs": [],
   "source": []
  },
  {
   "cell_type": "code",
   "execution_count": null,
   "metadata": {},
   "outputs": [],
   "source": []
  },
  {
   "cell_type": "code",
   "execution_count": 37,
   "metadata": {},
   "outputs": [],
   "source": [
    "scryfallUri = \"https://api.scryfall.com/\"\n",
    "\n",
    "def Search(searchValue):\n",
    "    searchUri = \"\"\n",
    "    for char in searchValue.lower():\n",
    "        if char in \"abcdefghijklmnopqrstuvwxyz0123456789 \":\n",
    "            searchUri += char\n",
    "    searchUri = searchUri.replace(' ', '+')\n",
    "    resp = requests.get(scryfallUri + \"cards/named?fuzzy=\" + searchUri)\n",
    "    return json.loads(resp.text)\n",
    "\n",
    "def Variants(cardObject):\n",
    "    oracleId = cardObject['oracle_id']\n",
    "    resp = requests.get(scryfallUri + \"cards/search?order=released&unique=prints&q=game%3Apaper+oracleid%3A\" + oracleId)\n",
    "    vdat = json.loads(resp.text)['data']\n",
    "    vlst = []\n",
    "    for i in vdat:\n",
    "        cdat = {\n",
    "            'finishes' : i['finishes'],\n",
    "            'scryfall' : i['id'],\n",
    "            'thumb' : i['image_uris']['small'],\n",
    "            'image' : i['image_uris']['normal']\n",
    "        }\n",
    "        vlst += [[\"{} ({}) {}\".format(i['set_name'], i['set'], i['collector_number']), cdat]]\n",
    "    return vlst"
   ]
  },
  {
   "cell_type": "code",
   "execution_count": 53,
   "metadata": {},
   "outputs": [
    {
     "data": {
      "text/plain": [
       "[['Murders at Karlov Manor Promos (pmkm) 36s',\n",
       "  {'finishes': ['foil'],\n",
       "   'scryfall': '97b2df60-f773-4b61-9101-05642a227cf5',\n",
       "   'thumb': 'https://cards.scryfall.io/small/front/9/7/97b2df60-f773-4b61-9101-05642a227cf5.jpg?1707551491',\n",
       "   'image': 'https://cards.scryfall.io/normal/front/9/7/97b2df60-f773-4b61-9101-05642a227cf5.jpg?1707551491'}],\n",
       " ['Murders at Karlov Manor Promos (pmkm) 36p',\n",
       "  {'finishes': ['nonfoil', 'foil'],\n",
       "   'scryfall': '091748a0-6a01-40cb-9ab8-015aa8235d3c',\n",
       "   'thumb': 'https://cards.scryfall.io/small/front/0/9/091748a0-6a01-40cb-9ab8-015aa8235d3c.jpg?1707510568',\n",
       "   'image': 'https://cards.scryfall.io/normal/front/0/9/091748a0-6a01-40cb-9ab8-015aa8235d3c.jpg?1707510568'}],\n",
       " ['Murders at Karlov Manor (mkm) 429',\n",
       "  {'finishes': ['foil'],\n",
       "   'scryfall': '58eccc85-bdfe-48f4-a79e-76d9ef122815',\n",
       "   'thumb': 'https://cards.scryfall.io/small/front/5/8/58eccc85-bdfe-48f4-a79e-76d9ef122815.jpg?1712996935',\n",
       "   'image': 'https://cards.scryfall.io/normal/front/5/8/58eccc85-bdfe-48f4-a79e-76d9ef122815.jpg?1712996935'}],\n",
       " ['Murders at Karlov Manor (mkm) 340',\n",
       "  {'finishes': ['nonfoil', 'foil'],\n",
       "   'scryfall': '481b5d9a-872d-4a2f-a52a-d4a746ee04ab',\n",
       "   'thumb': 'https://cards.scryfall.io/small/front/4/8/481b5d9a-872d-4a2f-a52a-d4a746ee04ab.jpg?1706242574',\n",
       "   'image': 'https://cards.scryfall.io/normal/front/4/8/481b5d9a-872d-4a2f-a52a-d4a746ee04ab.jpg?1706242574'}],\n",
       " ['Murders at Karlov Manor (mkm) 36',\n",
       "  {'finishes': ['nonfoil', 'foil'],\n",
       "   'scryfall': '296574c6-3933-4ab3-b591-72514b244da9',\n",
       "   'thumb': 'https://cards.scryfall.io/small/front/2/9/296574c6-3933-4ab3-b591-72514b244da9.jpg?1706241546',\n",
       "   'image': 'https://cards.scryfall.io/normal/front/2/9/296574c6-3933-4ab3-b591-72514b244da9.jpg?1706241546'}]]"
      ]
     },
     "execution_count": 53,
     "metadata": {},
     "output_type": "execute_result"
    }
   ],
   "source": [
    "wok = Variants(Search('wojek invest'))\n",
    "wok"
   ]
  },
  {
   "cell_type": "code",
   "execution_count": 51,
   "metadata": {},
   "outputs": [
    {
     "data": {
      "text/plain": [
       "[<PIL.JpegImagePlugin.JpegImageFile image mode=RGB size=146x204>,\n",
       " <PIL.JpegImagePlugin.JpegImageFile image mode=RGB size=146x204>,\n",
       " <PIL.JpegImagePlugin.JpegImageFile image mode=RGB size=146x204>,\n",
       " <PIL.JpegImagePlugin.JpegImageFile image mode=RGB size=146x204>,\n",
       " <PIL.JpegImagePlugin.JpegImageFile image mode=RGB size=146x204>]"
      ]
     },
     "execution_count": 51,
     "metadata": {},
     "output_type": "execute_result"
    }
   ],
   "source": [
    "[Image.open(io.BytesIO(requests.get(i[1]['thumb']).content)) for i in wok]"
   ]
  },
  {
   "cell_type": "code",
   "execution_count": null,
   "metadata": {},
   "outputs": [],
   "source": []
  },
  {
   "cell_type": "code",
   "execution_count": 38,
   "metadata": {},
   "outputs": [],
   "source": [
    "offlineKeys = {\n",
    "    'object' : True,\n",
    "    'id': True,\n",
    "    'oracle_id' : True,\n",
    "    'multiverse_ids' : False,\n",
    "    'mtgo_id' : False,\n",
    "    'mtgo_foil_id' : False,\n",
    "    'tcgplayer_id' : False,\n",
    "    'cardmarket_id' : False,\n",
    "    'name' : True,\n",
    "    'lang' : True,\n",
    "    'released_at' : True,\n",
    "    'uri' : False,\n",
    "    'scryfall_uri' : False,\n",
    "    'layout' : True,\n",
    "    'highres_image' : False,\n",
    "    'image_status' : False,\n",
    "    'image_uris' : False,\n",
    "    'mana_cost' : True,\n",
    "    'cmc' : True,\n",
    "    'type_line' : True,\n",
    "    'oracle_text' : True,\n",
    "    'power' : True,\n",
    "    'toughness' : True,\n",
    "    'colors' : True,\n",
    "    'color_identity' : True,\n",
    "    'keywords' : True,\n",
    "    'all_parts' : False,\n",
    "    'legalities' : True,\n",
    "    'games' : False,\n",
    "    'reserved' : False,\n",
    "    'foil' : False,\n",
    "    'nonfoil' : False,\n",
    "    'finishes' : False,\n",
    "    'oversized' : False,\n",
    "    'promo' : False,\n",
    "    'reprint' : False,\n",
    "    'variation' : False,\n",
    "    'set_id' : False,\n",
    "    'set_name' : True,\n",
    "    'set_type' : False,\n",
    "    'set_uri' : False,\n",
    "    'set_search_uri' : False,\n",
    "    'scryfall_set_uri' : False,\n",
    "    'rulings_uri' : False,\n",
    "    'prints_search_uri' : False,\n",
    "    'collector_number' : True,\n",
    "    'digital' : False,\n",
    "    'rarity' : True,\n",
    "    'card_back_id' : False,\n",
    "    'artist' : True,\n",
    "    'artist_ids' : False,\n",
    "    'illustration_id' : False,\n",
    "    'border_color' : False,\n",
    "    'frame' : False,\n",
    "    'security_stamp' : False,\n",
    "    'full_art' : False,\n",
    "    'textless' : False,\n",
    "    'booster' : False,\n",
    "    'story_spotlight' : False,\n",
    "    'edhrec_rank' : False,\n",
    "    'penny_rank' : False,\n",
    "    'prices' : False,\n",
    "    'related_uris' : False,\n",
    "    'purchase_uris' : False\n",
    "}"
   ]
  },
  {
   "cell_type": "code",
   "execution_count": 39,
   "metadata": {},
   "outputs": [],
   "source": [
    "fullJSON = json.loads(resp.content)\n",
    "\n",
    "selectKeys = [i for i in offlineKeys if offlineKeys[i]]\n",
    "offlineJSON = { i : fullJSON[i] for i in selectKeys}"
   ]
  },
  {
   "cell_type": "code",
   "execution_count": 40,
   "metadata": {},
   "outputs": [
    {
     "data": {
      "text/plain": [
       "{'object': 'card',\n",
       " 'id': '6af12a34-52a1-4940-a8d5-9e9811fcd59f',\n",
       " 'oracle_id': 'e245d5c9-ae3a-4246-bd74-c6fed76b9fad',\n",
       " 'name': 'Temmet, Vizier of Naktamun',\n",
       " 'lang': 'en',\n",
       " 'released_at': '2017-04-28',\n",
       " 'layout': 'normal',\n",
       " 'mana_cost': '{W}{U}',\n",
       " 'cmc': 2.0,\n",
       " 'type_line': 'Legendary Creature — Human Cleric',\n",
       " 'oracle_text': \"At the beginning of combat on your turn, target creature token you control gets +1/+1 until end of turn and can't be blocked this turn.\\nEmbalm {3}{W}{U} ({3}{W}{U}, Exile this card from your graveyard: Create a token that's a copy of it, except it's a white Zombie Human Cleric with no mana cost. Embalm only as a sorcery.)\",\n",
       " 'power': '2',\n",
       " 'toughness': '2',\n",
       " 'colors': ['U', 'W'],\n",
       " 'color_identity': ['U', 'W'],\n",
       " 'keywords': ['Embalm'],\n",
       " 'legalities': {'standard': 'not_legal',\n",
       "  'future': 'not_legal',\n",
       "  'historic': 'legal',\n",
       "  'timeless': 'legal',\n",
       "  'gladiator': 'legal',\n",
       "  'pioneer': 'legal',\n",
       "  'explorer': 'legal',\n",
       "  'modern': 'legal',\n",
       "  'legacy': 'legal',\n",
       "  'pauper': 'not_legal',\n",
       "  'vintage': 'legal',\n",
       "  'penny': 'legal',\n",
       "  'commander': 'legal',\n",
       "  'oathbreaker': 'legal',\n",
       "  'standardbrawl': 'not_legal',\n",
       "  'brawl': 'legal',\n",
       "  'alchemy': 'not_legal',\n",
       "  'paupercommander': 'not_legal',\n",
       "  'duel': 'legal',\n",
       "  'oldschool': 'not_legal',\n",
       "  'premodern': 'not_legal',\n",
       "  'predh': 'not_legal'},\n",
       " 'set_name': 'Amonkhet',\n",
       " 'collector_number': '207',\n",
       " 'rarity': 'rare',\n",
       " 'artist': 'Anna Steinbauer'}"
      ]
     },
     "execution_count": 40,
     "metadata": {},
     "output_type": "execute_result"
    }
   ],
   "source": [
    "offlineJSON"
   ]
  },
  {
   "cell_type": "code",
   "execution_count": 41,
   "metadata": {},
   "outputs": [
    {
     "data": {
      "text/plain": [
       "(5151, 1366)"
      ]
     },
     "execution_count": 41,
     "metadata": {},
     "output_type": "execute_result"
    }
   ],
   "source": [
    "len(resp.content), len(json.dumps(offlineJSON))"
   ]
  },
  {
   "cell_type": "code",
   "execution_count": 42,
   "metadata": {},
   "outputs": [
    {
     "name": "stdout",
     "output_type": "stream",
     "text": [
      "Full JSON size:  77.8 mb\n",
      "Offl JSON size:  20.6 mb\n",
      "Imgs JSON size: 221.6 mb\n"
     ]
    }
   ],
   "source": [
    "numberCardsEDH = 15103\n",
    "\n",
    "print('Full JSON size: {:5.1f} mb'.format(numberCardsEDH * len(resp.content) / 1000 / 1000))\n",
    "print('Offl JSON size: {:5.1f} mb'.format(numberCardsEDH * len(json.dumps(offlineJSON)) / 1000 / 1000))\n",
    "print('Imgs JSON size: {:5.1f} mb'.format(numberCardsEDH * len(requests.get(json.loads(resp.text)['image_uris']['small']).content) / 1000 / 1000))"
   ]
  },
  {
   "cell_type": "code",
   "execution_count": null,
   "metadata": {},
   "outputs": [],
   "source": []
  },
  {
   "cell_type": "code",
   "execution_count": null,
   "metadata": {},
   "outputs": [],
   "source": []
  }
 ],
 "metadata": {
  "kernelspec": {
   "display_name": "Python 3",
   "language": "python",
   "name": "python3"
  },
  "language_info": {
   "codemirror_mode": {
    "name": "ipython",
    "version": 3
   },
   "file_extension": ".py",
   "mimetype": "text/x-python",
   "name": "python",
   "nbconvert_exporter": "python",
   "pygments_lexer": "ipython3",
   "version": "3.7.10"
  }
 },
 "nbformat": 4,
 "nbformat_minor": 4
}
