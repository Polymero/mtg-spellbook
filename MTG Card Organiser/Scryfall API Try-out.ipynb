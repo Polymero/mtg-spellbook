{
 "cells": [
  {
   "cell_type": "code",
   "execution_count": 17,
   "metadata": {},
   "outputs": [],
   "source": [
    "import requests, json, io\n",
    "from PIL import Image"
   ]
  },
  {
   "cell_type": "code",
   "execution_count": 129,
   "metadata": {},
   "outputs": [
    {
     "name": "stdout",
     "output_type": "stream",
     "text": [
      "96589 entries\n"
     ]
    }
   ],
   "source": [
    "wop = json.load(open(r'C:\\Users\\Nika\\Downloads\\default-cards-20240715090650.json', 'rb'))\n",
    "print(len(wop), 'entries')"
   ]
  },
  {
   "cell_type": "code",
   "execution_count": null,
   "metadata": {},
   "outputs": [],
   "source": []
  },
  {
   "cell_type": "code",
   "execution_count": 152,
   "metadata": {},
   "outputs": [],
   "source": [
    "layouts = set()\n",
    "objects = set()\n",
    "\n",
    "def add(item, database):\n",
    "    try:\n",
    "        assert 'paper' in item['games']\n",
    "        assert item['layout'] not in [\n",
    "            'art_series', \n",
    "            'double_faced_token', \n",
    "            'token', \n",
    "            'planar',\n",
    "            'scheme',\n",
    "            'token',\n",
    "            'vanguard',\n",
    "            'emblem'\n",
    "        ]\n",
    "        layouts.add(item['layout'])\n",
    "        objects.add(item['object'])\n",
    "        if item['oracle_id'] not in database:\n",
    "            database[item['oracle_id']] = {\n",
    "                'oracle_id' : item['oracle_id'],\n",
    "                'name' : item['name'],\n",
    "                'variants' : [],\n",
    "                'type_line' : item['type_line'],\n",
    "                'oracle_text' : item['oracle_text'],\n",
    "                'mana_cost' : item['mana_cost'],\n",
    "                'cmc' : item['cmc'],\n",
    "                'colors' : item['colors'],\n",
    "                'color_id' : item['color_identity'],\n",
    "                'keywords' : item['keywords'],\n",
    "                'legalities' : item['legalities']\n",
    "            }\n",
    "    #     else:\n",
    "    #         if item['name'] != database[item['oracle_id']]['name']:\n",
    "    #             print(item['name'], database[item['oracle_id']]['name'])\n",
    "        database[item['oracle_id']]['variants'] += [{\n",
    "            'set_name' : item['set_name'],\n",
    "            'set_code' : item['set'],\n",
    "            'collector_number' : item['collector_number'],\n",
    "            'finishes' : item['finishes'],\n",
    "            'artist' : item['artist'],\n",
    "            'thumb' : item['image_uris']['small'],\n",
    "            'image' : item['image_uris']['normal'],\n",
    "            'language' : item['lang'],\n",
    "            'released' : item['released_at'],\n",
    "            'rarity' : item['rarity']\n",
    "        }]\n",
    "    except:\n",
    "        pass\n",
    "\n",
    "oracleDatabase = {}\n",
    "for i in wop:\n",
    "    if 'oracle_id' in i:\n",
    "        add(i, oracleDatabase)\n",
    "    else:\n",
    "        continue\n",
    "#         i['oracle_id'] = i['card_faces'][0]['oracle_id']\n",
    "#         add(i, oracleDatabase)\n",
    "#         oracleDatabase[i['oracle_id']]['flip'] = i['card_faces'][1]['oracle_id']\n",
    "        "
   ]
  },
  {
   "cell_type": "code",
   "execution_count": 153,
   "metadata": {},
   "outputs": [
    {
     "data": {
      "text/plain": [
       "{'adventure',\n",
       " 'augment',\n",
       " 'case',\n",
       " 'class',\n",
       " 'flip',\n",
       " 'host',\n",
       " 'leveler',\n",
       " 'meld',\n",
       " 'modal_dfc',\n",
       " 'mutate',\n",
       " 'normal',\n",
       " 'prototype',\n",
       " 'saga',\n",
       " 'split',\n",
       " 'transform'}"
      ]
     },
     "execution_count": 153,
     "metadata": {},
     "output_type": "execute_result"
    }
   ],
   "source": [
    "layouts"
   ]
  },
  {
   "cell_type": "code",
   "execution_count": 154,
   "metadata": {},
   "outputs": [
    {
     "name": "stdout",
     "output_type": "stream",
     "text": [
      "27962 entries\n",
      "59.87 mb\n"
     ]
    }
   ],
   "source": [
    "print(len(oracleDatabase), 'entries')\n",
    "\n",
    "keys = oracleDatabase.keys()\n",
    "dbsize = 0\n",
    "for key in keys:\n",
    "    dbsize += len(json.dumps(oracleDatabase[key]))\n",
    "    \n",
    "print('{:.2f} mb'.format(dbsize / 1000 / 1000))"
   ]
  },
  {
   "cell_type": "code",
   "execution_count": 151,
   "metadata": {
    "scrolled": false
   },
   "outputs": [
    {
     "data": {
      "text/plain": [
       "[{'oracle_id': 'ab41243d-b178-4ebe-a7ac-bea37427be99',\n",
       "  'name': 'Wojek Investigator',\n",
       "  'variants': [{'set_name': 'Murders at Karlov Manor Promos',\n",
       "    'set_code': 'pmkm',\n",
       "    'collector_number': '36p',\n",
       "    'finishes': ['nonfoil', 'foil'],\n",
       "    'artist': 'Ben Hill',\n",
       "    'thumb': 'https://cards.scryfall.io/small/front/0/9/091748a0-6a01-40cb-9ab8-015aa8235d3c.jpg?1707510568',\n",
       "    'image': 'https://cards.scryfall.io/normal/front/0/9/091748a0-6a01-40cb-9ab8-015aa8235d3c.jpg?1707510568',\n",
       "    'language': 'en',\n",
       "    'released': '2024-02-09',\n",
       "    'rarity': 'rare'},\n",
       "   {'set_name': 'Murders at Karlov Manor',\n",
       "    'set_code': 'mkm',\n",
       "    'collector_number': '36',\n",
       "    'finishes': ['nonfoil', 'foil'],\n",
       "    'artist': 'Ben Hill',\n",
       "    'thumb': 'https://cards.scryfall.io/small/front/2/9/296574c6-3933-4ab3-b591-72514b244da9.jpg?1706241546',\n",
       "    'image': 'https://cards.scryfall.io/normal/front/2/9/296574c6-3933-4ab3-b591-72514b244da9.jpg?1706241546',\n",
       "    'language': 'en',\n",
       "    'released': '2024-02-09',\n",
       "    'rarity': 'rare'},\n",
       "   {'set_name': 'Murders at Karlov Manor',\n",
       "    'set_code': 'mkm',\n",
       "    'collector_number': '340',\n",
       "    'finishes': ['nonfoil', 'foil'],\n",
       "    'artist': 'Lisa Heidhoff',\n",
       "    'thumb': 'https://cards.scryfall.io/small/front/4/8/481b5d9a-872d-4a2f-a52a-d4a746ee04ab.jpg?1706242574',\n",
       "    'image': 'https://cards.scryfall.io/normal/front/4/8/481b5d9a-872d-4a2f-a52a-d4a746ee04ab.jpg?1706242574',\n",
       "    'language': 'en',\n",
       "    'released': '2024-02-09',\n",
       "    'rarity': 'rare'},\n",
       "   {'set_name': 'Murders at Karlov Manor',\n",
       "    'set_code': 'mkm',\n",
       "    'collector_number': '429',\n",
       "    'finishes': ['foil'],\n",
       "    'artist': 'Greg Staples',\n",
       "    'thumb': 'https://cards.scryfall.io/small/front/5/8/58eccc85-bdfe-48f4-a79e-76d9ef122815.jpg?1712996935',\n",
       "    'image': 'https://cards.scryfall.io/normal/front/5/8/58eccc85-bdfe-48f4-a79e-76d9ef122815.jpg?1712996935',\n",
       "    'language': 'en',\n",
       "    'released': '2024-02-09',\n",
       "    'rarity': 'rare'},\n",
       "   {'set_name': 'Murders at Karlov Manor',\n",
       "    'set_code': 'mkm',\n",
       "    'collector_number': '36†',\n",
       "    'finishes': ['nonfoil', 'foil'],\n",
       "    'artist': 'Ben Hill',\n",
       "    'thumb': 'https://cards.scryfall.io/small/front/6/8/684bb0b1-c374-4af7-b018-fa7efaf14b25.jpg?1707941449',\n",
       "    'image': 'https://cards.scryfall.io/normal/front/6/8/684bb0b1-c374-4af7-b018-fa7efaf14b25.jpg?1707941449',\n",
       "    'language': 'en',\n",
       "    'released': '2024-02-09',\n",
       "    'rarity': 'rare'},\n",
       "   {'set_name': 'Murders at Karlov Manor Promos',\n",
       "    'set_code': 'pmkm',\n",
       "    'collector_number': '36s',\n",
       "    'finishes': ['foil'],\n",
       "    'artist': 'Ben Hill',\n",
       "    'thumb': 'https://cards.scryfall.io/small/front/9/7/97b2df60-f773-4b61-9101-05642a227cf5.jpg?1707551491',\n",
       "    'image': 'https://cards.scryfall.io/normal/front/9/7/97b2df60-f773-4b61-9101-05642a227cf5.jpg?1707551491',\n",
       "    'language': 'en',\n",
       "    'released': '2024-02-09',\n",
       "    'rarity': 'rare'}],\n",
       "  'type_line': 'Creature — Angel Detective',\n",
       "  'oracle_text': 'Flying, vigilance\\nAt the beginning of your upkeep, investigate once for each opponent who has more cards in hand than you. (To investigate, create a Clue token. It\\'s an artifact with \"{2}, Sacrifice this artifact: Draw a card.\")',\n",
       "  'mana_cost': '{2}{W}',\n",
       "  'cmc': 3.0,\n",
       "  'colors': ['W'],\n",
       "  'color_id': ['W'],\n",
       "  'keywords': ['Flying', 'Investigate', 'Vigilance'],\n",
       "  'legalities': {'standard': 'legal',\n",
       "   'future': 'legal',\n",
       "   'historic': 'legal',\n",
       "   'timeless': 'legal',\n",
       "   'gladiator': 'legal',\n",
       "   'pioneer': 'legal',\n",
       "   'explorer': 'legal',\n",
       "   'modern': 'legal',\n",
       "   'legacy': 'legal',\n",
       "   'pauper': 'not_legal',\n",
       "   'vintage': 'legal',\n",
       "   'penny': 'legal',\n",
       "   'commander': 'legal',\n",
       "   'oathbreaker': 'legal',\n",
       "   'standardbrawl': 'legal',\n",
       "   'brawl': 'legal',\n",
       "   'alchemy': 'legal',\n",
       "   'paupercommander': 'not_legal',\n",
       "   'duel': 'legal',\n",
       "   'oldschool': 'not_legal',\n",
       "   'premodern': 'not_legal',\n",
       "   'predh': 'not_legal'}}]"
      ]
     },
     "execution_count": 151,
     "metadata": {},
     "output_type": "execute_result"
    }
   ],
   "source": [
    "[oracleDatabase[i] for i in oracleDatabase if 'Wojek Investigator' in oracleDatabase[i]['name']]"
   ]
  },
  {
   "cell_type": "code",
   "execution_count": null,
   "metadata": {},
   "outputs": [],
   "source": []
  },
  {
   "cell_type": "code",
   "execution_count": 37,
   "metadata": {},
   "outputs": [],
   "source": [
    "scryfallUri = \"https://api.scryfall.com/\"\n",
    "\n",
    "def Search(searchValue):\n",
    "    searchUri = \"\"\n",
    "    for char in searchValue.lower():\n",
    "        if char in \"abcdefghijklmnopqrstuvwxyz0123456789 \":\n",
    "            searchUri += char\n",
    "    searchUri = searchUri.replace(' ', '+')\n",
    "    resp = requests.get(scryfallUri + \"cards/named?fuzzy=\" + searchUri)\n",
    "    return json.loads(resp.text)\n",
    "\n",
    "def Variants(cardObject):\n",
    "    oracleId = cardObject['oracle_id']\n",
    "    resp = requests.get(scryfallUri + \"cards/search?order=released&unique=prints&q=game%3Apaper+oracleid%3A\" + oracleId)\n",
    "    vdat = json.loads(resp.text)['data']\n",
    "    vlst = []\n",
    "    for i in vdat:\n",
    "        cdat = {\n",
    "            'finishes' : i['finishes'],\n",
    "            'scryfall' : i['id'],\n",
    "            'thumb' : i['image_uris']['small'],\n",
    "            'image' : i['image_uris']['normal']\n",
    "        }\n",
    "        vlst += [[\"{} ({}) {}\".format(i['set_name'], i['set'], i['collector_number']), cdat]]\n",
    "    return vlst"
   ]
  },
  {
   "cell_type": "code",
   "execution_count": 53,
   "metadata": {},
   "outputs": [
    {
     "data": {
      "text/plain": [
       "[['Murders at Karlov Manor Promos (pmkm) 36s',\n",
       "  {'finishes': ['foil'],\n",
       "   'scryfall': '97b2df60-f773-4b61-9101-05642a227cf5',\n",
       "   'thumb': 'https://cards.scryfall.io/small/front/9/7/97b2df60-f773-4b61-9101-05642a227cf5.jpg?1707551491',\n",
       "   'image': 'https://cards.scryfall.io/normal/front/9/7/97b2df60-f773-4b61-9101-05642a227cf5.jpg?1707551491'}],\n",
       " ['Murders at Karlov Manor Promos (pmkm) 36p',\n",
       "  {'finishes': ['nonfoil', 'foil'],\n",
       "   'scryfall': '091748a0-6a01-40cb-9ab8-015aa8235d3c',\n",
       "   'thumb': 'https://cards.scryfall.io/small/front/0/9/091748a0-6a01-40cb-9ab8-015aa8235d3c.jpg?1707510568',\n",
       "   'image': 'https://cards.scryfall.io/normal/front/0/9/091748a0-6a01-40cb-9ab8-015aa8235d3c.jpg?1707510568'}],\n",
       " ['Murders at Karlov Manor (mkm) 429',\n",
       "  {'finishes': ['foil'],\n",
       "   'scryfall': '58eccc85-bdfe-48f4-a79e-76d9ef122815',\n",
       "   'thumb': 'https://cards.scryfall.io/small/front/5/8/58eccc85-bdfe-48f4-a79e-76d9ef122815.jpg?1712996935',\n",
       "   'image': 'https://cards.scryfall.io/normal/front/5/8/58eccc85-bdfe-48f4-a79e-76d9ef122815.jpg?1712996935'}],\n",
       " ['Murders at Karlov Manor (mkm) 340',\n",
       "  {'finishes': ['nonfoil', 'foil'],\n",
       "   'scryfall': '481b5d9a-872d-4a2f-a52a-d4a746ee04ab',\n",
       "   'thumb': 'https://cards.scryfall.io/small/front/4/8/481b5d9a-872d-4a2f-a52a-d4a746ee04ab.jpg?1706242574',\n",
       "   'image': 'https://cards.scryfall.io/normal/front/4/8/481b5d9a-872d-4a2f-a52a-d4a746ee04ab.jpg?1706242574'}],\n",
       " ['Murders at Karlov Manor (mkm) 36',\n",
       "  {'finishes': ['nonfoil', 'foil'],\n",
       "   'scryfall': '296574c6-3933-4ab3-b591-72514b244da9',\n",
       "   'thumb': 'https://cards.scryfall.io/small/front/2/9/296574c6-3933-4ab3-b591-72514b244da9.jpg?1706241546',\n",
       "   'image': 'https://cards.scryfall.io/normal/front/2/9/296574c6-3933-4ab3-b591-72514b244da9.jpg?1706241546'}]]"
      ]
     },
     "execution_count": 53,
     "metadata": {},
     "output_type": "execute_result"
    }
   ],
   "source": [
    "wok = Variants(Search('wojek invest'))\n",
    "wok"
   ]
  },
  {
   "cell_type": "code",
   "execution_count": 51,
   "metadata": {},
   "outputs": [
    {
     "data": {
      "text/plain": [
       "[<PIL.JpegImagePlugin.JpegImageFile image mode=RGB size=146x204>,\n",
       " <PIL.JpegImagePlugin.JpegImageFile image mode=RGB size=146x204>,\n",
       " <PIL.JpegImagePlugin.JpegImageFile image mode=RGB size=146x204>,\n",
       " <PIL.JpegImagePlugin.JpegImageFile image mode=RGB size=146x204>,\n",
       " <PIL.JpegImagePlugin.JpegImageFile image mode=RGB size=146x204>]"
      ]
     },
     "execution_count": 51,
     "metadata": {},
     "output_type": "execute_result"
    }
   ],
   "source": [
    "[Image.open(io.BytesIO(requests.get(i[1]['thumb']).content)) for i in wok]"
   ]
  },
  {
   "cell_type": "code",
   "execution_count": null,
   "metadata": {},
   "outputs": [],
   "source": []
  },
  {
   "cell_type": "code",
   "execution_count": 38,
   "metadata": {},
   "outputs": [],
   "source": [
    "offlineKeys = {\n",
    "    'object' : True,\n",
    "    'id': True,\n",
    "    'oracle_id' : True,\n",
    "    'multiverse_ids' : False,\n",
    "    'mtgo_id' : False,\n",
    "    'mtgo_foil_id' : False,\n",
    "    'tcgplayer_id' : False,\n",
    "    'cardmarket_id' : False,\n",
    "    'name' : True,\n",
    "    'lang' : True,\n",
    "    'released_at' : True,\n",
    "    'uri' : False,\n",
    "    'scryfall_uri' : False,\n",
    "    'layout' : True,\n",
    "    'highres_image' : False,\n",
    "    'image_status' : False,\n",
    "    'image_uris' : False,\n",
    "    'mana_cost' : True,\n",
    "    'cmc' : True,\n",
    "    'type_line' : True,\n",
    "    'oracle_text' : True,\n",
    "    'power' : True,\n",
    "    'toughness' : True,\n",
    "    'colors' : True,\n",
    "    'color_identity' : True,\n",
    "    'keywords' : True,\n",
    "    'all_parts' : False,\n",
    "    'legalities' : True,\n",
    "    'games' : False,\n",
    "    'reserved' : False,\n",
    "    'foil' : False,\n",
    "    'nonfoil' : False,\n",
    "    'finishes' : False,\n",
    "    'oversized' : False,\n",
    "    'promo' : False,\n",
    "    'reprint' : False,\n",
    "    'variation' : False,\n",
    "    'set_id' : False,\n",
    "    'set_name' : True,\n",
    "    'set_type' : False,\n",
    "    'set_uri' : False,\n",
    "    'set_search_uri' : False,\n",
    "    'scryfall_set_uri' : False,\n",
    "    'rulings_uri' : False,\n",
    "    'prints_search_uri' : False,\n",
    "    'collector_number' : True,\n",
    "    'digital' : False,\n",
    "    'rarity' : True,\n",
    "    'card_back_id' : False,\n",
    "    'artist' : True,\n",
    "    'artist_ids' : False,\n",
    "    'illustration_id' : False,\n",
    "    'border_color' : False,\n",
    "    'frame' : False,\n",
    "    'security_stamp' : False,\n",
    "    'full_art' : False,\n",
    "    'textless' : False,\n",
    "    'booster' : False,\n",
    "    'story_spotlight' : False,\n",
    "    'edhrec_rank' : False,\n",
    "    'penny_rank' : False,\n",
    "    'prices' : False,\n",
    "    'related_uris' : False,\n",
    "    'purchase_uris' : False\n",
    "}"
   ]
  },
  {
   "cell_type": "code",
   "execution_count": 39,
   "metadata": {},
   "outputs": [],
   "source": [
    "fullJSON = json.loads(resp.content)\n",
    "\n",
    "selectKeys = [i for i in offlineKeys if offlineKeys[i]]\n",
    "offlineJSON = { i : fullJSON[i] for i in selectKeys}"
   ]
  },
  {
   "cell_type": "code",
   "execution_count": 40,
   "metadata": {},
   "outputs": [
    {
     "data": {
      "text/plain": [
       "{'object': 'card',\n",
       " 'id': '6af12a34-52a1-4940-a8d5-9e9811fcd59f',\n",
       " 'oracle_id': 'e245d5c9-ae3a-4246-bd74-c6fed76b9fad',\n",
       " 'name': 'Temmet, Vizier of Naktamun',\n",
       " 'lang': 'en',\n",
       " 'released_at': '2017-04-28',\n",
       " 'layout': 'normal',\n",
       " 'mana_cost': '{W}{U}',\n",
       " 'cmc': 2.0,\n",
       " 'type_line': 'Legendary Creature — Human Cleric',\n",
       " 'oracle_text': \"At the beginning of combat on your turn, target creature token you control gets +1/+1 until end of turn and can't be blocked this turn.\\nEmbalm {3}{W}{U} ({3}{W}{U}, Exile this card from your graveyard: Create a token that's a copy of it, except it's a white Zombie Human Cleric with no mana cost. Embalm only as a sorcery.)\",\n",
       " 'power': '2',\n",
       " 'toughness': '2',\n",
       " 'colors': ['U', 'W'],\n",
       " 'color_identity': ['U', 'W'],\n",
       " 'keywords': ['Embalm'],\n",
       " 'legalities': {'standard': 'not_legal',\n",
       "  'future': 'not_legal',\n",
       "  'historic': 'legal',\n",
       "  'timeless': 'legal',\n",
       "  'gladiator': 'legal',\n",
       "  'pioneer': 'legal',\n",
       "  'explorer': 'legal',\n",
       "  'modern': 'legal',\n",
       "  'legacy': 'legal',\n",
       "  'pauper': 'not_legal',\n",
       "  'vintage': 'legal',\n",
       "  'penny': 'legal',\n",
       "  'commander': 'legal',\n",
       "  'oathbreaker': 'legal',\n",
       "  'standardbrawl': 'not_legal',\n",
       "  'brawl': 'legal',\n",
       "  'alchemy': 'not_legal',\n",
       "  'paupercommander': 'not_legal',\n",
       "  'duel': 'legal',\n",
       "  'oldschool': 'not_legal',\n",
       "  'premodern': 'not_legal',\n",
       "  'predh': 'not_legal'},\n",
       " 'set_name': 'Amonkhet',\n",
       " 'collector_number': '207',\n",
       " 'rarity': 'rare',\n",
       " 'artist': 'Anna Steinbauer'}"
      ]
     },
     "execution_count": 40,
     "metadata": {},
     "output_type": "execute_result"
    }
   ],
   "source": [
    "offlineJSON"
   ]
  },
  {
   "cell_type": "code",
   "execution_count": 41,
   "metadata": {},
   "outputs": [
    {
     "data": {
      "text/plain": [
       "(5151, 1366)"
      ]
     },
     "execution_count": 41,
     "metadata": {},
     "output_type": "execute_result"
    }
   ],
   "source": [
    "len(resp.content), len(json.dumps(offlineJSON))"
   ]
  },
  {
   "cell_type": "code",
   "execution_count": 42,
   "metadata": {},
   "outputs": [
    {
     "name": "stdout",
     "output_type": "stream",
     "text": [
      "Full JSON size:  77.8 mb\n",
      "Offl JSON size:  20.6 mb\n",
      "Imgs JSON size: 221.6 mb\n"
     ]
    }
   ],
   "source": [
    "numberCardsEDH = 15103\n",
    "\n",
    "print('Full JSON size: {:5.1f} mb'.format(numberCardsEDH * len(resp.content) / 1000 / 1000))\n",
    "print('Offl JSON size: {:5.1f} mb'.format(numberCardsEDH * len(json.dumps(offlineJSON)) / 1000 / 1000))\n",
    "print('Imgs JSON size: {:5.1f} mb'.format(numberCardsEDH * len(requests.get(json.loads(resp.text)['image_uris']['small']).content) / 1000 / 1000))"
   ]
  },
  {
   "cell_type": "code",
   "execution_count": null,
   "metadata": {},
   "outputs": [],
   "source": []
  },
  {
   "cell_type": "code",
   "execution_count": null,
   "metadata": {},
   "outputs": [],
   "source": []
  }
 ],
 "metadata": {
  "kernelspec": {
   "display_name": "Python 3",
   "language": "python",
   "name": "python3"
  },
  "language_info": {
   "codemirror_mode": {
    "name": "ipython",
    "version": 3
   },
   "file_extension": ".py",
   "mimetype": "text/x-python",
   "name": "python",
   "nbconvert_exporter": "python",
   "pygments_lexer": "ipython3",
   "version": "3.7.10"
  }
 },
 "nbformat": 4,
 "nbformat_minor": 4
}
